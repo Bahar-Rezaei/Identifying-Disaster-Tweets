{
 "cells": [
  {
   "cell_type": "markdown",
   "id": "1aa5a327",
   "metadata": {},
   "source": [
    "# Identifying Disaster Tweets\n",
    " \n",
    "I apply machine learning techniques on Twitter data to identify which tweets relate to genuine disasters. This could be useful, for example, for emergency services or news agencies.\n"
   ]
  },
  {
   "cell_type": "code",
   "execution_count": 17,
   "id": "07a64bd5",
   "metadata": {},
   "outputs": [],
   "source": [
    "import numpy as np # linear algebra\n",
    "import pandas as pd # data processing, CSV file I/O (e.g. pd.read_csv)\n",
    "from sklearn import feature_extraction, model_selection, preprocessing\n",
    "from sklearn.model_selection import train_test_split\n",
    "import matplotlib.pyplot as plt\n"
   ]
  },
  {
   "cell_type": "code",
   "execution_count": 18,
   "id": "e14f9a8a",
   "metadata": {
    "scrolled": true
   },
   "outputs": [],
   "source": [
    "train_df = pd.read_csv(\"train.csv\")\n",
    "test_df = pd.read_csv(\"test.csv\")\n"
   ]
  },
  {
   "cell_type": "code",
   "execution_count": 19,
   "id": "eb61e5dc",
   "metadata": {},
   "outputs": [
    {
     "data": {
      "text/html": [
       "<div>\n",
       "<style scoped>\n",
       "    .dataframe tbody tr th:only-of-type {\n",
       "        vertical-align: middle;\n",
       "    }\n",
       "\n",
       "    .dataframe tbody tr th {\n",
       "        vertical-align: top;\n",
       "    }\n",
       "\n",
       "    .dataframe thead th {\n",
       "        text-align: right;\n",
       "    }\n",
       "</style>\n",
       "<table border=\"1\" class=\"dataframe\">\n",
       "  <thead>\n",
       "    <tr style=\"text-align: right;\">\n",
       "      <th></th>\n",
       "      <th>id</th>\n",
       "      <th>keyword</th>\n",
       "      <th>location</th>\n",
       "      <th>text</th>\n",
       "      <th>target</th>\n",
       "    </tr>\n",
       "  </thead>\n",
       "  <tbody>\n",
       "    <tr>\n",
       "      <th>0</th>\n",
       "      <td>1</td>\n",
       "      <td>NaN</td>\n",
       "      <td>NaN</td>\n",
       "      <td>Our Deeds are the Reason of this #earthquake M...</td>\n",
       "      <td>1</td>\n",
       "    </tr>\n",
       "    <tr>\n",
       "      <th>1</th>\n",
       "      <td>4</td>\n",
       "      <td>NaN</td>\n",
       "      <td>NaN</td>\n",
       "      <td>Forest fire near La Ronge Sask. Canada</td>\n",
       "      <td>1</td>\n",
       "    </tr>\n",
       "    <tr>\n",
       "      <th>2</th>\n",
       "      <td>5</td>\n",
       "      <td>NaN</td>\n",
       "      <td>NaN</td>\n",
       "      <td>All residents asked to 'shelter in place' are ...</td>\n",
       "      <td>1</td>\n",
       "    </tr>\n",
       "    <tr>\n",
       "      <th>3</th>\n",
       "      <td>6</td>\n",
       "      <td>NaN</td>\n",
       "      <td>NaN</td>\n",
       "      <td>13,000 people receive #wildfires evacuation or...</td>\n",
       "      <td>1</td>\n",
       "    </tr>\n",
       "    <tr>\n",
       "      <th>4</th>\n",
       "      <td>7</td>\n",
       "      <td>NaN</td>\n",
       "      <td>NaN</td>\n",
       "      <td>Just got sent this photo from Ruby #Alaska as ...</td>\n",
       "      <td>1</td>\n",
       "    </tr>\n",
       "  </tbody>\n",
       "</table>\n",
       "</div>"
      ],
      "text/plain": [
       "   id keyword location                                               text  \\\n",
       "0   1     NaN      NaN  Our Deeds are the Reason of this #earthquake M...   \n",
       "1   4     NaN      NaN             Forest fire near La Ronge Sask. Canada   \n",
       "2   5     NaN      NaN  All residents asked to 'shelter in place' are ...   \n",
       "3   6     NaN      NaN  13,000 people receive #wildfires evacuation or...   \n",
       "4   7     NaN      NaN  Just got sent this photo from Ruby #Alaska as ...   \n",
       "\n",
       "   target  \n",
       "0       1  \n",
       "1       1  \n",
       "2       1  \n",
       "3       1  \n",
       "4       1  "
      ]
     },
     "execution_count": 19,
     "metadata": {},
     "output_type": "execute_result"
    }
   ],
   "source": [
    "train_df.head()"
   ]
  },
  {
   "cell_type": "code",
   "execution_count": 20,
   "id": "9e466f9c",
   "metadata": {},
   "outputs": [
    {
     "data": {
      "text/html": [
       "<div>\n",
       "<style scoped>\n",
       "    .dataframe tbody tr th:only-of-type {\n",
       "        vertical-align: middle;\n",
       "    }\n",
       "\n",
       "    .dataframe tbody tr th {\n",
       "        vertical-align: top;\n",
       "    }\n",
       "\n",
       "    .dataframe thead th {\n",
       "        text-align: right;\n",
       "    }\n",
       "</style>\n",
       "<table border=\"1\" class=\"dataframe\">\n",
       "  <thead>\n",
       "    <tr style=\"text-align: right;\">\n",
       "      <th></th>\n",
       "      <th>id</th>\n",
       "      <th>keyword</th>\n",
       "      <th>location</th>\n",
       "      <th>text</th>\n",
       "    </tr>\n",
       "  </thead>\n",
       "  <tbody>\n",
       "    <tr>\n",
       "      <th>0</th>\n",
       "      <td>0</td>\n",
       "      <td>NaN</td>\n",
       "      <td>NaN</td>\n",
       "      <td>Just happened a terrible car crash</td>\n",
       "    </tr>\n",
       "    <tr>\n",
       "      <th>1</th>\n",
       "      <td>2</td>\n",
       "      <td>NaN</td>\n",
       "      <td>NaN</td>\n",
       "      <td>Heard about #earthquake is different cities, s...</td>\n",
       "    </tr>\n",
       "    <tr>\n",
       "      <th>2</th>\n",
       "      <td>3</td>\n",
       "      <td>NaN</td>\n",
       "      <td>NaN</td>\n",
       "      <td>there is a forest fire at spot pond, geese are...</td>\n",
       "    </tr>\n",
       "    <tr>\n",
       "      <th>3</th>\n",
       "      <td>9</td>\n",
       "      <td>NaN</td>\n",
       "      <td>NaN</td>\n",
       "      <td>Apocalypse lighting. #Spokane #wildfires</td>\n",
       "    </tr>\n",
       "    <tr>\n",
       "      <th>4</th>\n",
       "      <td>11</td>\n",
       "      <td>NaN</td>\n",
       "      <td>NaN</td>\n",
       "      <td>Typhoon Soudelor kills 28 in China and Taiwan</td>\n",
       "    </tr>\n",
       "  </tbody>\n",
       "</table>\n",
       "</div>"
      ],
      "text/plain": [
       "   id keyword location                                               text\n",
       "0   0     NaN      NaN                 Just happened a terrible car crash\n",
       "1   2     NaN      NaN  Heard about #earthquake is different cities, s...\n",
       "2   3     NaN      NaN  there is a forest fire at spot pond, geese are...\n",
       "3   9     NaN      NaN           Apocalypse lighting. #Spokane #wildfires\n",
       "4  11     NaN      NaN      Typhoon Soudelor kills 28 in China and Taiwan"
      ]
     },
     "execution_count": 20,
     "metadata": {},
     "output_type": "execute_result"
    }
   ],
   "source": [
    "test_df.head()"
   ]
  },
  {
   "cell_type": "code",
   "execution_count": 21,
   "id": "dd2febeb",
   "metadata": {},
   "outputs": [
    {
     "name": "stdout",
     "output_type": "stream",
     "text": [
      "Train data shape:\n",
      " (7613, 5) \n",
      "\n",
      "Test data shape:\n",
      " (3263, 4) \n",
      "\n"
     ]
    }
   ],
   "source": [
    "print(\"Train data shape:\\n\", train_df.shape, \"\\n\")\n",
    "print(\"Test data shape:\\n\", test_df.shape, \"\\n\")"
   ]
  },
  {
   "cell_type": "code",
   "execution_count": 42,
   "id": "79d43168",
   "metadata": {},
   "outputs": [
    {
     "data": {
      "text/plain": [
       "'Random sample of disaster tweets:'"
      ]
     },
     "metadata": {},
     "output_type": "display_data"
    },
    {
     "data": {
      "text/plain": [
       "1138    The cryptic words that guided pilots on the Hi...\n",
       "590     Hmm...this could be problem for some researche...\n",
       "3629    Injuries Illnesses and Fatalities Latest Numbe...\n",
       "5248    Refugio oil spill may have been costlier bigge...\n",
       "69      Accident center lane blocked in #SantaClara on...\n",
       "Name: text, dtype: object"
      ]
     },
     "metadata": {},
     "output_type": "display_data"
    },
    {
     "name": "stdout",
     "output_type": "stream",
     "text": [
      "\n",
      "\n"
     ]
    },
    {
     "data": {
      "text/plain": [
       "'Random sample of non disaster tweets:'"
      ]
     },
     "metadata": {},
     "output_type": "display_data"
    },
    {
     "data": {
      "text/plain": [
       "5938    I SCREAMED 'WHATS A CHONCe' http://t.co/GXYivs...\n",
       "6664    Generational Û÷British schismÛª over privacy...\n",
       "3702    cause i know every man has a fear of a strong-...\n",
       "5753    Riot Kit Bah - part of the new concept Gear co...\n",
       "813     Amazon Deal - wait or buy? http://t.co/0T8VqKEArI\n",
       "Name: text, dtype: object"
      ]
     },
     "metadata": {},
     "output_type": "display_data"
    }
   ],
   "source": [
    "display(\"Random sample of disaster tweets:\",train_df[train_df.target==1].text.sample(5))\n",
    "print('\\n')\n",
    "display(\"Random sample of non disaster tweets:\",train_df[train_df.target==0].text.sample(5))"
   ]
  },
  {
   "cell_type": "markdown",
   "id": "077ccec4",
   "metadata": {},
   "source": [
    "## K Most Occuring Words Sorted by their Frequency\n"
   ]
  },
  {
   "cell_type": "code",
   "execution_count": 23,
   "id": "add2b9c2",
   "metadata": {},
   "outputs": [],
   "source": [
    "from collections import Counter\n",
    "  \n",
    "data_set = train_df[\"text\"] + \" \"\n",
    "data_set = data_set.str.cat()\n",
    "  \n",
    "# split() returns list of all the words in the string\n",
    "split_it = data_set.split()\n",
    "  \n",
    "# Pass the split_it list to instance of Counter class.\n",
    "Counter = Counter(split_it)\n",
    "  \n",
    "# most_common() produces k frequently encountered\n",
    "# input values and their respective counts.\n",
    "\n",
    "vocabulary_size = 10000\n",
    "most_occuring = Counter.most_common(vocabulary_size)\n",
    "\n",
    "vocab = [word for (word, count) in most_occuring]\n",
    "\n"
   ]
  },
  {
   "cell_type": "markdown",
   "id": "7f14f035",
   "metadata": {},
   "source": [
    "# Vectorize the Data"
   ]
  },
  {
   "cell_type": "code",
   "execution_count": 24,
   "id": "f58b7266",
   "metadata": {},
   "outputs": [
    {
     "data": {
      "text/plain": [
       "(5100, 10000)"
      ]
     },
     "execution_count": 24,
     "metadata": {},
     "output_type": "execute_result"
    }
   ],
   "source": [
    "#CountVectorizer converts a collection of text documents to a matrix of token counts\n",
    "count_vectorizer = feature_extraction.text.CountVectorizer(vocabulary=vocab)\n",
    "\n",
    "train_vectors = count_vectorizer.fit_transform(train_df[\"text\"])\n",
    "test_vectors = count_vectorizer.transform(test_df[\"text\"])\n",
    "\n",
    "# note that we're NOT using .fit_transform() for test data. Using just .transform() makes sure\n",
    "# that the tokens in the train vectors are the only ones mapped to the test vectors - \n",
    "# i.e. that the train and test vectors use the same set of tokens.\n",
    "\n",
    "x_train, x_test, y_train, y_test = train_test_split(train_vectors.todense(), train_df[\"target\"], \n",
    "                                                   test_size=0.33, random_state=42)\n",
    "x_train.shape"
   ]
  },
  {
   "cell_type": "code",
   "execution_count": 25,
   "id": "b0d39afd",
   "metadata": {},
   "outputs": [
    {
     "name": "stdout",
     "output_type": "stream",
     "text": [
      "0    Our Deeds are the Reason of this #earthquake M...\n",
      "1               Forest fire near La Ronge Sask. Canada\n",
      "2    All residents asked to 'shelter in place' are ...\n",
      "3    13,000 people receive #wildfires evacuation or...\n",
      "4    Just got sent this photo from Ruby #Alaska as ...\n",
      "Name: text, dtype: object\n"
     ]
    }
   ],
   "source": [
    "\n",
    "print(train_df[\"text\"].head())\n"
   ]
  },
  {
   "cell_type": "code",
   "execution_count": 26,
   "id": "447bfd8c",
   "metadata": {},
   "outputs": [
    {
     "name": "stdout",
     "output_type": "stream",
     "text": [
      "[[1 0 0 ... 0 0 0]\n",
      " [1 0 0 ... 0 0 0]\n",
      " [0 0 0 ... 0 0 0]\n",
      " [2 0 0 ... 0 0 0]\n",
      " [0 0 1 ... 0 0 0]]\n",
      "(5, 10000)\n"
     ]
    }
   ],
   "source": [
    "print(x_train[0:5])\n",
    "print(x_train[0:5].shape)"
   ]
  },
  {
   "cell_type": "markdown",
   "id": "6cdc3ab2",
   "metadata": {},
   "source": [
    "# RidgeClassifier (Kaggle example)\n"
   ]
  },
  {
   "cell_type": "code",
   "execution_count": 27,
   "id": "8e93bb1d",
   "metadata": {},
   "outputs": [
    {
     "name": "stdout",
     "output_type": "stream",
     "text": [
      "Accuracy is: 0.7704\n",
      "f1 is: 0.7225\n"
     ]
    }
   ],
   "source": [
    "from sklearn import linear_model, metrics\n",
    "\n",
    "## Our vectors are really big, so we want to push our model's weights toward 0 \n",
    "## without completely discounting different words - \n",
    "## ridge regression is a good way to do this.\n",
    "clf = linear_model.RidgeClassifier()\n",
    "clf.fit(x_train, y_train)\n",
    "\n",
    "y_pred = clf.predict(x_test)\n",
    "\n",
    "accuracy = metrics.accuracy_score(y_test, y_pred)\n",
    "print(\"Accuracy is: \" + f\"{accuracy:.04f}\")\n",
    "\n",
    "f1 = metrics.f1_score(y_test, y_pred)\n",
    "print(\"f1 is: \" + f\"{f1:.04f}\")\n"
   ]
  },
  {
   "cell_type": "markdown",
   "id": "e3d108f7",
   "metadata": {},
   "source": [
    "# GaussianNB"
   ]
  },
  {
   "cell_type": "code",
   "execution_count": 28,
   "id": "080b5621",
   "metadata": {},
   "outputs": [
    {
     "name": "stdout",
     "output_type": "stream",
     "text": [
      "Accuracy is: 0.5973\n",
      "f1 is: 0.6391\n"
     ]
    }
   ],
   "source": [
    "from sklearn.naive_bayes import GaussianNB\n",
    "from sklearn.model_selection import train_test_split\n",
    "\n",
    "clf = GaussianNB()\n",
    "clf.fit(x_train, y_train)\n",
    "\n",
    "y_pred = clf.predict(x_test)\n",
    "\n",
    "accuracy = metrics.accuracy_score(y_test, y_pred)\n",
    "print(\"Accuracy is: \" + f\"{accuracy:.04f}\")\n",
    "\n",
    "f1 = metrics.f1_score(y_test, y_pred)\n",
    "print(\"f1 is: \" + f\"{f1:.04f}\")\n"
   ]
  },
  {
   "cell_type": "markdown",
   "id": "7b716683",
   "metadata": {},
   "source": [
    "# DecisionTreeClassifier"
   ]
  },
  {
   "cell_type": "code",
   "execution_count": 29,
   "id": "418cf9e8",
   "metadata": {},
   "outputs": [
    {
     "name": "stdout",
     "output_type": "stream",
     "text": [
      "Accuracy is: 0.6590\n",
      "f1 is: 0.6120\n"
     ]
    }
   ],
   "source": [
    "from sklearn.tree import DecisionTreeClassifier, plot_tree\n",
    "\n",
    "clf = DecisionTreeClassifier(max_leaf_nodes=10) #This takes too long without some limit\n",
    "clf.fit(x_train, y_train)\n",
    "\n",
    "y_pred = clf.predict(x_test)\n",
    "\n",
    "accuracy = metrics.accuracy_score(y_test, y_pred)\n",
    "print(\"Accuracy is: \" + f\"{accuracy:.04f}\")\n",
    "\n",
    "f1 = metrics.f1_score(y_test, y_pred)\n",
    "print(\"f1 is: \" + f\"{f1:.04f}\")"
   ]
  },
  {
   "cell_type": "markdown",
   "id": "4db9150a",
   "metadata": {},
   "source": [
    "# Simple Neural Network"
   ]
  },
  {
   "cell_type": "code",
   "execution_count": 30,
   "id": "fd3ba2d9",
   "metadata": {},
   "outputs": [
    {
     "name": "stdout",
     "output_type": "stream",
     "text": [
      "Model: \"sequential\"\n",
      "_________________________________________________________________\n",
      "Layer (type)                 Output Shape              Param #   \n",
      "=================================================================\n",
      "dense (Dense)                (None, 512)               5120512   \n",
      "_________________________________________________________________\n",
      "dense_1 (Dense)              (None, 1)                 513       \n",
      "=================================================================\n",
      "Total params: 5,121,025\n",
      "Trainable params: 5,121,025\n",
      "Non-trainable params: 0\n",
      "_________________________________________________________________\n",
      "Epoch 1/20\n",
      "9/9 [==============================] - 2s 137ms/step - loss: 0.6497 - accuracy: 0.6934 - val_loss: 0.5932 - val_accuracy: 0.7549\n",
      "Epoch 2/20\n",
      "9/9 [==============================] - 1s 97ms/step - loss: 0.5192 - accuracy: 0.8157 - val_loss: 0.5212 - val_accuracy: 0.7676\n",
      "Epoch 3/20\n",
      "9/9 [==============================] - 1s 112ms/step - loss: 0.4167 - accuracy: 0.8490 - val_loss: 0.4862 - val_accuracy: 0.7824\n",
      "Epoch 4/20\n",
      "9/9 [==============================] - 1s 104ms/step - loss: 0.3424 - accuracy: 0.8767 - val_loss: 0.4823 - val_accuracy: 0.7912\n",
      "Epoch 5/20\n",
      "9/9 [==============================] - 1s 101ms/step - loss: 0.2880 - accuracy: 0.8998 - val_loss: 0.4922 - val_accuracy: 0.7804\n",
      "Epoch 6/20\n",
      "9/9 [==============================] - 1s 104ms/step - loss: 0.2474 - accuracy: 0.9132 - val_loss: 0.5025 - val_accuracy: 0.7824\n",
      "Epoch 7/20\n",
      "9/9 [==============================] - 1s 110ms/step - loss: 0.2139 - accuracy: 0.9279 - val_loss: 0.5164 - val_accuracy: 0.7824\n",
      "Epoch 8/20\n",
      "9/9 [==============================] - 1s 99ms/step - loss: 0.1882 - accuracy: 0.9377 - val_loss: 0.5346 - val_accuracy: 0.7843\n",
      "Epoch 9/20\n",
      "9/9 [==============================] - 1s 98ms/step - loss: 0.1668 - accuracy: 0.9451 - val_loss: 0.5603 - val_accuracy: 0.7794\n",
      "Epoch 10/20\n",
      "9/9 [==============================] - 1s 98ms/step - loss: 0.1491 - accuracy: 0.9515 - val_loss: 0.5818 - val_accuracy: 0.7725\n",
      "Epoch 11/20\n",
      "9/9 [==============================] - 1s 104ms/step - loss: 0.1334 - accuracy: 0.9569 - val_loss: 0.6002 - val_accuracy: 0.7735\n",
      "Epoch 12/20\n",
      "9/9 [==============================] - 1s 110ms/step - loss: 0.1208 - accuracy: 0.9627 - val_loss: 0.6202 - val_accuracy: 0.7755\n",
      "Epoch 13/20\n",
      "9/9 [==============================] - 1s 111ms/step - loss: 0.1106 - accuracy: 0.9632 - val_loss: 0.6417 - val_accuracy: 0.7716\n",
      "Epoch 14/20\n",
      "9/9 [==============================] - 1s 117ms/step - loss: 0.1017 - accuracy: 0.9686 - val_loss: 0.6673 - val_accuracy: 0.7676\n",
      "Epoch 15/20\n",
      "9/9 [==============================] - 1s 118ms/step - loss: 0.0942 - accuracy: 0.9701 - val_loss: 0.6929 - val_accuracy: 0.7647\n",
      "Epoch 16/20\n",
      "9/9 [==============================] - 1s 113ms/step - loss: 0.0871 - accuracy: 0.9725 - val_loss: 0.7149 - val_accuracy: 0.7618\n",
      "Epoch 17/20\n",
      "9/9 [==============================] - 1s 112ms/step - loss: 0.0813 - accuracy: 0.9750 - val_loss: 0.7347 - val_accuracy: 0.7598\n",
      "Epoch 18/20\n",
      "9/9 [==============================] - 1s 100ms/step - loss: 0.0775 - accuracy: 0.9745 - val_loss: 0.7550 - val_accuracy: 0.7618\n",
      "Epoch 19/20\n",
      "9/9 [==============================] - 1s 99ms/step - loss: 0.0735 - accuracy: 0.9740 - val_loss: 0.7803 - val_accuracy: 0.7588\n",
      "Epoch 20/20\n",
      "9/9 [==============================] - 1s 97ms/step - loss: 0.0705 - accuracy: 0.9757 - val_loss: 0.7957 - val_accuracy: 0.7647\n"
     ]
    },
    {
     "data": {
      "text/plain": [
       "<tensorflow.python.keras.callbacks.History at 0x7fb1801310a0>"
      ]
     },
     "execution_count": 30,
     "metadata": {},
     "output_type": "execute_result"
    }
   ],
   "source": [
    "# needs vectorized data as input\n",
    "\n",
    "from tensorflow.keras import models, layers\n",
    "\n",
    "model = models.Sequential()\n",
    "model.add(layers.Dense(512, activation=\"relu\", input_shape=(vocabulary_size, )))\n",
    "model.add(layers.Dense(1, activation=\"sigmoid\"))\n",
    "model.summary()\n",
    "\n",
    "model.compile(\n",
    "    optimizer=\"adam\",\n",
    "    loss=\"binary_crossentropy\",\n",
    "    metrics=[\"accuracy\"]\n",
    ")\n",
    "\n",
    "model.fit(\n",
    "    x_train, y_train, \n",
    "    epochs=20,\n",
    "    batch_size=500,\n",
    "    validation_split=0.2\n",
    ")"
   ]
  },
  {
   "cell_type": "code",
   "execution_count": 31,
   "id": "316daf46",
   "metadata": {},
   "outputs": [
    {
     "data": {
      "text/plain": [
       "[<matplotlib.lines.Line2D at 0x7fb17577a550>]"
      ]
     },
     "execution_count": 31,
     "metadata": {},
     "output_type": "execute_result"
    },
    {
     "data": {
      "image/png": "[encoded data removed]",
      "text/plain": [
       "<Figure size 432x288 with 1 Axes>"
      ]
     },
     "metadata": {
      "needs_background": "light"
     },
     "output_type": "display_data"
    }
   ],
   "source": [
    "import matplotlib.pyplot as plt\n",
    "\n",
    "accuracy_simple = model.history.history[\"accuracy\"]\n",
    "val_accuracy_simple = model.history.history[\"val_accuracy\"]\n",
    "\n",
    "plt.plot(model.history.history[\"accuracy\"], label=\"accuracy-simple\")\n",
    "plt.plot(model.history.history[\"val_accuracy\"], label=\"val_accuracy-simple\")\n",
    "#plt.title(\"Accuracy with Simple Neural Network\")\n",
    "#plt.legend()\n",
    "#plt.show()\n",
    "#plt.close()\n",
    "\n",
    "#plt.plot(model.history.history[\"loss\"], label=\"loss\")\n",
    "#plt.plot(model.history.history[\"val_loss\"], label=\"val_loss\")\n",
    "#plt.title(\"Loss with Simple Neural Network\")\n",
    "#plt.legend()\n",
    "#plt.show()\n",
    "#plt.close()"
   ]
  },
  {
   "cell_type": "markdown",
   "id": "b6fc82ec",
   "metadata": {},
   "source": [
    "# Neural Networks with Embedding"
   ]
  },
  {
   "cell_type": "code",
   "execution_count": 32,
   "id": "41940c91",
   "metadata": {},
   "outputs": [
    {
     "data": {
      "text/plain": [
       "'Our Deeds are the Reason of this #earthquake May ALLAH Forgive us all'"
      ]
     },
     "execution_count": 32,
     "metadata": {},
     "output_type": "execute_result"
    }
   ],
   "source": [
    "x_train = train_df[\"text\"]\n",
    "y_train = train_df[\"target\"]\n",
    "\n",
    "x_train[0]"
   ]
  },
  {
   "cell_type": "code",
   "execution_count": 33,
   "id": "a1089ec9",
   "metadata": {},
   "outputs": [
    {
     "data": {
      "image/png": "[encoded data removed]",
      "text/plain": [
       "<Figure size 432x288 with 1 Axes>"
      ]
     },
     "metadata": {
      "needs_background": "light"
     },
     "output_type": "display_data"
    }
   ],
   "source": [
    "# working out word length of tweets\n",
    "\n",
    "lengths = [len(t.split(' ')) for t in train_df[\"text\"]]\n",
    "\n",
    "plt.hist(lengths, bins=len(set(lengths)))\n",
    "plt.xlabel('Number of Words')\n",
    "plt.ylabel('Number of Tweets')\n",
    "plt.title('Word-Length of Tweets')\n",
    "plt.show()\n",
    "\n",
    "# the chart shows that 30 is a reasonable sequence length\n",
    "\n",
    "sequence_length = 30"
   ]
  },
  {
   "cell_type": "code",
   "execution_count": 34,
   "id": "668e6003",
   "metadata": {},
   "outputs": [
    {
     "name": "stdout",
     "output_type": "stream",
     "text": [
      "Our Deeds are the Reason of this #earthquake May ALLAH Forgive us all\n",
      "[120, 4634, 25, 5, 869, 9, 22, 264, 139, 1620, 4635, 90, 41]\n"
     ]
    }
   ],
   "source": [
    "# Tokenizing\n",
    "\n",
    "from tensorflow.keras.preprocessing.text import Tokenizer\n",
    "\n",
    "tokenizer = Tokenizer(num_words=10000, oov_token='<UNK>')\n",
    "tokenizer.fit_on_texts(x_train)\n",
    "x_train_tokenized = tokenizer.texts_to_sequences(x_train)\n",
    "\n",
    "print(train_df[\"text\"][0])\n",
    "print(x_train_tokenized[0])\n"
   ]
  },
  {
   "cell_type": "code",
   "execution_count": 14,
   "id": "f60744c0",
   "metadata": {},
   "outputs": [],
   "source": [
    "# Padding and Truncating\n",
    "\n",
    "from tensorflow.keras import preprocessing\n",
    "\n",
    "x_train_padded = preprocessing.sequence.pad_sequences(\n",
    "    x_train_tokenized,\n",
    "    maxlen=sequence_length,\n",
    "    padding=\"post\",\n",
    "    truncating=\"post\"\n",
    ")\n"
   ]
  },
  {
   "cell_type": "code",
   "execution_count": 15,
   "id": "41b72c57",
   "metadata": {},
   "outputs": [
    {
     "name": "stdout",
     "output_type": "stream",
     "text": [
      "Model: \"sequential_1\"\n",
      "_________________________________________________________________\n",
      "Layer (type)                 Output Shape              Param #   \n",
      "=================================================================\n",
      "embedding (Embedding)        (None, 30, 16)            160000    \n",
      "_________________________________________________________________\n",
      "flatten (Flatten)            (None, 480)               0         \n",
      "_________________________________________________________________\n",
      "dense_2 (Dense)              (None, 1)                 481       \n",
      "=================================================================\n",
      "Total params: 160,481\n",
      "Trainable params: 160,481\n",
      "Non-trainable params: 0\n",
      "_________________________________________________________________\n",
      "Epoch 1/20\n",
      "13/13 [==============================] - 1s 13ms/step - loss: 0.6853 - accuracy: 0.5831 - val_loss: 0.6856 - val_accuracy: 0.5358\n",
      "Epoch 2/20\n",
      "13/13 [==============================] - 0s 5ms/step - loss: 0.6681 - accuracy: 0.5918 - val_loss: 0.6821 - val_accuracy: 0.5358\n",
      "Epoch 3/20\n",
      "13/13 [==============================] - 0s 6ms/step - loss: 0.6532 - accuracy: 0.5982 - val_loss: 0.6767 - val_accuracy: 0.5391\n",
      "Epoch 4/20\n",
      "13/13 [==============================] - 0s 6ms/step - loss: 0.6364 - accuracy: 0.6243 - val_loss: 0.6680 - val_accuracy: 0.5515\n",
      "Epoch 5/20\n",
      "13/13 [==============================] - 0s 5ms/step - loss: 0.6156 - accuracy: 0.6757 - val_loss: 0.6570 - val_accuracy: 0.5817\n",
      "Epoch 6/20\n",
      "13/13 [==============================] - 0s 5ms/step - loss: 0.5903 - accuracy: 0.7443 - val_loss: 0.6431 - val_accuracy: 0.6533\n",
      "Epoch 7/20\n",
      "13/13 [==============================] - 0s 5ms/step - loss: 0.5619 - accuracy: 0.7915 - val_loss: 0.6294 - val_accuracy: 0.6776\n",
      "Epoch 8/20\n",
      "13/13 [==============================] - 0s 5ms/step - loss: 0.5314 - accuracy: 0.8140 - val_loss: 0.6143 - val_accuracy: 0.7026\n",
      "Epoch 9/20\n",
      "13/13 [==============================] - 0s 5ms/step - loss: 0.5002 - accuracy: 0.8384 - val_loss: 0.5995 - val_accuracy: 0.7045\n",
      "Epoch 10/20\n",
      "13/13 [==============================] - 0s 5ms/step - loss: 0.4692 - accuracy: 0.8509 - val_loss: 0.5864 - val_accuracy: 0.7150\n",
      "Epoch 11/20\n",
      "13/13 [==============================] - 0s 5ms/step - loss: 0.4393 - accuracy: 0.8621 - val_loss: 0.5739 - val_accuracy: 0.7360\n",
      "Epoch 12/20\n",
      "13/13 [==============================] - 0s 5ms/step - loss: 0.4110 - accuracy: 0.8698 - val_loss: 0.5635 - val_accuracy: 0.7466\n",
      "Epoch 13/20\n",
      "13/13 [==============================] - 0s 5ms/step - loss: 0.3845 - accuracy: 0.8798 - val_loss: 0.5514 - val_accuracy: 0.7538\n",
      "Epoch 14/20\n",
      "13/13 [==============================] - 0s 5ms/step - loss: 0.3601 - accuracy: 0.8957 - val_loss: 0.5416 - val_accuracy: 0.7544\n",
      "Epoch 15/20\n",
      "13/13 [==============================] - 0s 5ms/step - loss: 0.3370 - accuracy: 0.9041 - val_loss: 0.5339 - val_accuracy: 0.7564\n",
      "Epoch 16/20\n",
      "13/13 [==============================] - 0s 5ms/step - loss: 0.3158 - accuracy: 0.9123 - val_loss: 0.5266 - val_accuracy: 0.7577\n",
      "Epoch 17/20\n",
      "13/13 [==============================] - 0s 5ms/step - loss: 0.2964 - accuracy: 0.9182 - val_loss: 0.5196 - val_accuracy: 0.7610\n",
      "Epoch 18/20\n",
      "13/13 [==============================] - 0s 5ms/step - loss: 0.2785 - accuracy: 0.9248 - val_loss: 0.5142 - val_accuracy: 0.7597\n",
      "Epoch 19/20\n",
      "13/13 [==============================] - 0s 6ms/step - loss: 0.2621 - accuracy: 0.9286 - val_loss: 0.5093 - val_accuracy: 0.7636\n",
      "Epoch 20/20\n",
      "13/13 [==============================] - 0s 5ms/step - loss: 0.2469 - accuracy: 0.9348 - val_loss: 0.5049 - val_accuracy: 0.7643\n"
     ]
    }
   ],
   "source": [
    "from tensorflow.keras import models, layers\n",
    "\n",
    "model = models.Sequential()\n",
    "\n",
    "embedding_size = 16\n",
    "model.add(layers.Embedding(vocabulary_size, embedding_size, input_length=sequence_length))\n",
    "\n",
    "model.add(layers.Flatten())\n",
    "model.add(layers.Dense(1, activation=\"sigmoid\"))\n",
    "model.summary()\n",
    "\n",
    "model.compile(\n",
    "    optimizer=\"adam\",\n",
    "    loss=\"binary_crossentropy\",\n",
    "    metrics=[\"accuracy\"]\n",
    ")\n",
    "\n",
    "history = model.fit(\n",
    "    x_train_padded, y_train,\n",
    "    epochs=20,\n",
    "    batch_size=500,\n",
    "    validation_split=0.2\n",
    ")"
   ]
  },
  {
   "cell_type": "code",
   "execution_count": 16,
   "id": "b5d73d96",
   "metadata": {},
   "outputs": [
    {
     "data": {
      "text/plain": [
       "[<matplotlib.lines.Line2D at 0x7fd879aefcd0>]"
      ]
     },
     "execution_count": 16,
     "metadata": {},
     "output_type": "execute_result"
    },
    {
     "data": {
      "image/png": "[encoded data removed]",
      "text/plain": [
       "<Figure size 432x288 with 1 Axes>"
      ]
     },
     "metadata": {
      "needs_background": "light"
     },
     "output_type": "display_data"
    }
   ],
   "source": [
    "accuracy_embedding = model.history.history[\"accuracy\"]\n",
    "val_accuracy_embedding = model.history.history[\"val_accuracy\"]\n",
    "\n",
    "plt.plot(model.history.history[\"accuracy\"], label=\"accuracy-embedding\")\n",
    "plt.plot(model.history.history[\"val_accuracy\"], label=\"val_accuracy-embedding\")\n",
    "#plt.title(\"Accuracy with Neural Network + Embedding\")\n",
    "#plt.legend()\n",
    "#plt.show()\n",
    "#plt.close()\n",
    "\n",
    "#plt.plot(model.history.history[\"loss\"], label=\"loss\")\n",
    "#plt.plot(model.history.history[\"val_loss\"], label=\"val_loss\")\n",
    "#plt.title(\"Loss with Neural Network + Embedding\")\n",
    "#plt.legend()\n",
    "#plt.show()\n",
    "#plt.close()"
   ]
  },
  {
   "cell_type": "markdown",
   "id": "89d12b3d",
   "metadata": {},
   "source": [
    "# Neural Networks with Embedding & LSTM"
   ]
  },
  {
   "cell_type": "code",
   "execution_count": 17,
   "id": "25040d3e",
   "metadata": {},
   "outputs": [
    {
     "name": "stdout",
     "output_type": "stream",
     "text": [
      "Model: \"sequential_2\"\n",
      "_________________________________________________________________\n",
      "Layer (type)                 Output Shape              Param #   \n",
      "=================================================================\n",
      "embedding_1 (Embedding)      (None, 30, 16)            160000    \n",
      "_________________________________________________________________\n",
      "lstm (LSTM)                  (None, 30, 32)            6272      \n",
      "_________________________________________________________________\n",
      "lstm_1 (LSTM)                (None, 32)                8320      \n",
      "_________________________________________________________________\n",
      "dense_3 (Dense)              (None, 1)                 33        \n",
      "=================================================================\n",
      "Total params: 174,625\n",
      "Trainable params: 174,625\n",
      "Non-trainable params: 0\n",
      "_________________________________________________________________\n",
      "Epoch 1/20\n",
      "13/13 [==============================] - 8s 173ms/step - loss: 0.6878 - accuracy: 0.5655 - val_loss: 0.6908 - val_accuracy: 0.5345\n",
      "Epoch 2/20\n",
      "13/13 [==============================] - 1s 94ms/step - loss: 0.6768 - accuracy: 0.5793 - val_loss: 0.6893 - val_accuracy: 0.5345\n",
      "Epoch 3/20\n",
      "13/13 [==============================] - 1s 94ms/step - loss: 0.6467 - accuracy: 0.5928 - val_loss: 0.6037 - val_accuracy: 0.6927\n",
      "Epoch 4/20\n",
      "13/13 [==============================] - 1s 98ms/step - loss: 0.5040 - accuracy: 0.7718 - val_loss: 0.5441 - val_accuracy: 0.7610\n",
      "Epoch 5/20\n",
      "13/13 [==============================] - 1s 94ms/step - loss: 0.3781 - accuracy: 0.8504 - val_loss: 0.4717 - val_accuracy: 0.7846\n",
      "Epoch 6/20\n",
      "13/13 [==============================] - 2s 189ms/step - loss: 0.2909 - accuracy: 0.8920 - val_loss: 0.4964 - val_accuracy: 0.7728\n",
      "Epoch 7/20\n",
      "13/13 [==============================] - 1s 100ms/step - loss: 0.2338 - accuracy: 0.9186 - val_loss: 0.5708 - val_accuracy: 0.7446\n",
      "Epoch 8/20\n",
      "13/13 [==============================] - 2s 177ms/step - loss: 0.2019 - accuracy: 0.9323 - val_loss: 0.5882 - val_accuracy: 0.7603\n",
      "Epoch 9/20\n",
      "13/13 [==============================] - 2s 156ms/step - loss: 0.1637 - accuracy: 0.9496 - val_loss: 0.6092 - val_accuracy: 0.7689\n",
      "Epoch 10/20\n",
      "13/13 [==============================] - 1s 109ms/step - loss: 0.1420 - accuracy: 0.9568 - val_loss: 0.6948 - val_accuracy: 0.7525\n",
      "Epoch 11/20\n",
      "13/13 [==============================] - 1s 107ms/step - loss: 0.1200 - accuracy: 0.9632 - val_loss: 0.7257 - val_accuracy: 0.7433\n",
      "Epoch 12/20\n",
      "13/13 [==============================] - 1s 107ms/step - loss: 0.1059 - accuracy: 0.9695 - val_loss: 0.7983 - val_accuracy: 0.7406\n",
      "Epoch 13/20\n",
      "13/13 [==============================] - 1s 98ms/step - loss: 0.0953 - accuracy: 0.9734 - val_loss: 0.8110 - val_accuracy: 0.7413\n",
      "Epoch 14/20\n",
      "13/13 [==============================] - 1s 98ms/step - loss: 0.0885 - accuracy: 0.9747 - val_loss: 0.9610 - val_accuracy: 0.7374\n",
      "Epoch 15/20\n",
      "13/13 [==============================] - 2s 125ms/step - loss: 0.0835 - accuracy: 0.9765 - val_loss: 0.8784 - val_accuracy: 0.7400\n",
      "Epoch 16/20\n",
      "13/13 [==============================] - 2s 129ms/step - loss: 0.0805 - accuracy: 0.9762 - val_loss: 0.8935 - val_accuracy: 0.7367\n",
      "Epoch 17/20\n",
      "13/13 [==============================] - 1s 98ms/step - loss: 0.0751 - accuracy: 0.9759 - val_loss: 0.8479 - val_accuracy: 0.7446\n",
      "Epoch 18/20\n",
      "13/13 [==============================] - 1s 101ms/step - loss: 0.0751 - accuracy: 0.9760 - val_loss: 1.0387 - val_accuracy: 0.7288\n",
      "Epoch 19/20\n",
      "13/13 [==============================] - 1s 98ms/step - loss: 0.0731 - accuracy: 0.9755 - val_loss: 1.0029 - val_accuracy: 0.7308\n",
      "Epoch 20/20\n",
      "13/13 [==============================] - 1s 97ms/step - loss: 0.0665 - accuracy: 0.9782 - val_loss: 1.0058 - val_accuracy: 0.7315\n"
     ]
    }
   ],
   "source": [
    "from tensorflow.keras import models, layers\n",
    "\n",
    "model = models.Sequential()\n",
    "model.add(layers.Embedding(vocabulary_size, embedding_size, input_length=sequence_length))\n",
    "model.add(layers.LSTM(32, return_sequences=True))\n",
    "model.add(layers.LSTM(32))\n",
    "model.add(layers.Dense(1, activation=\"sigmoid\"))\n",
    "model.summary()\n",
    "\n",
    "model.compile(\n",
    "    optimizer=\"adam\",\n",
    "    loss=\"binary_crossentropy\",\n",
    "    metrics=[\"accuracy\"]\n",
    ")\n",
    "\n",
    "history = model.fit(\n",
    "    x_train_padded, y_train,\n",
    "    epochs=20,\n",
    "    batch_size=500,\n",
    "    validation_split=0.2\n",
    ")"
   ]
  },
  {
   "cell_type": "code",
   "execution_count": 18,
   "id": "70b1ba10",
   "metadata": {},
   "outputs": [
    {
     "data": {
      "text/plain": [
       "[<matplotlib.lines.Line2D at 0x7fd888a298e0>]"
      ]
     },
     "execution_count": 18,
     "metadata": {},
     "output_type": "execute_result"
    },
    {
     "data": {
      "image/png": "[encoded data removed]",
      "text/plain": [
       "<Figure size 432x288 with 1 Axes>"
      ]
     },
     "metadata": {
      "needs_background": "light"
     },
     "output_type": "display_data"
    }
   ],
   "source": [
    "accuracy_lstm = model.history.history[\"accuracy\"]\n",
    "val_accuracy_lstm = model.history.history[\"val_accuracy\"]\n",
    "\n",
    "plt.plot(model.history.history[\"accuracy\"], label=\"accuracy-lstm\")\n",
    "plt.plot(model.history.history[\"val_accuracy\"], label=\"val_accuracy-lstm\")\n",
    "#plt.title(\"Comparing simple NN with Embedding & LSTM\")\n",
    "#plt.legend()\n",
    "#plt.show()\n",
    "#plt.close()\n",
    "\n",
    "#plt.plot(model.history.history[\"loss\"], label=\"loss\")\n",
    "#plt.plot(model.history.history[\"val_loss\"], label=\"val_loss\")\n",
    "#plt.title(\"Loss with Neural Network + Embedding & LSTM\")\n",
    "#plt.legend()\n",
    "#plt.show()\n",
    "#plt.close()"
   ]
  },
  {
   "cell_type": "code",
   "execution_count": 24,
   "id": "351ef286",
   "metadata": {},
   "outputs": [
    {
     "data": {
      "image/png": "[encoded data removed]",
      "text/plain": [
       "<Figure size 432x288 with 1 Axes>"
      ]
     },
     "metadata": {
      "needs_background": "light"
     },
     "output_type": "display_data"
    }
   ],
   "source": [
    "plt.plot(val_accuracy_simple, label=\"val_accuracy-simple\")\n",
    "plt.plot(val_accuracy_embedding, label=\"val_accuracy-embedding\")\n",
    "plt.plot(val_accuracy_lstm, label=\"val_accuracy-lstm\")\n",
    "plt.title(\"Validation Accuracy of simple NN, Embedding, LSTM\")\n",
    "plt.legend()\n",
    "plt.show()\n",
    "plt.close()\n",
    "\n",
    "\n"
   ]
  },
  {
   "cell_type": "code",
   "execution_count": null,
   "id": "f4a5e33b",
   "metadata": {},
   "outputs": [],
   "source": []
  }
 ],
 "metadata": {
  "kernelspec": {
   "display_name": "Python 3",
   "language": "python",
   "name": "python3"
  },
  "language_info": {
   "codemirror_mode": {
    "name": "ipython",
    "version": 3
   },
   "file_extension": ".py",
   "mimetype": "text/x-python",
   "name": "python",
   "nbconvert_exporter": "python",
   "pygments_lexer": "ipython3",
   "version": "3.8.5"
  }
 },
 "nbformat": 4,
 "nbformat_minor": 5
}
