{
 "cells": [
  {
   "cell_type": "markdown",
   "id": "1aa5a327",
   "metadata": {},
   "source": [
    "# Identifying Disaster Tweets\n",
    " \n",
    "I apply machine learning techniques on Twitter data to identify which tweets relate to genuine disasters. This could be useful, for example, for emergency services or news agencies.\n",
    "\n",
    "### What am I predicting?\n",
    "\n",
    "Whether a given tweet is about a real disaster or not. If so, predict a 1. If not, predict a 0.\n",
    "\n"
   ]
  },
  {
   "cell_type": "markdown",
   "id": "58ea94ae",
   "metadata": {},
   "source": [
    "\n",
    "### What should I expect the data format to be?\n",
    "\n",
    "Each sample in the train and test set has the following information:\n",
    "\n",
    "- The text of a tweet\n",
    "- A keyword from that tweet (although this may be blank)\n",
    "- The location the tweet was sent from (may also be blank)\n",
    "\n",
    "### Files\n",
    "\n",
    "- train.csv \n",
    "- test.csv \n",
    "\n",
    "### Columns\n",
    "\n",
    "- id - a unique identifier for each tweet\n",
    "- text - the text of the tweet\n",
    "- location - the location the tweet was sent from (may be blank)\n",
    "- keyword - a particular keyword from the tweet (may be blank)\n",
    "- target - in train.csv only, this denotes whether a tweet is about a real disaster (1) or not (0)\n"
   ]
  },
  {
   "cell_type": "code",
   "execution_count": 1,
   "id": "07a64bd5",
   "metadata": {},
   "outputs": [],
   "source": [
    "import numpy as np # linear algebra\n",
    "import pandas as pd # data processing, CSV file I/O (e.g. pd.read_csv)\n",
    "from sklearn import feature_extraction, model_selection, preprocessing\n",
    "from sklearn.model_selection import train_test_split\n",
    "import matplotlib.pyplot as plt\n"
   ]
  },
  {
   "cell_type": "code",
   "execution_count": 2,
   "id": "e14f9a8a",
   "metadata": {},
   "outputs": [
    {
     "data": {
      "text/html": [
       "<div>\n",
       "<style scoped>\n",
       "    .dataframe tbody tr th:only-of-type {\n",
       "        vertical-align: middle;\n",
       "    }\n",
       "\n",
       "    .dataframe tbody tr th {\n",
       "        vertical-align: top;\n",
       "    }\n",
       "\n",
       "    .dataframe thead th {\n",
       "        text-align: right;\n",
       "    }\n",
       "</style>\n",
       "<table border=\"1\" class=\"dataframe\">\n",
       "  <thead>\n",
       "    <tr style=\"text-align: right;\">\n",
       "      <th></th>\n",
       "      <th>id</th>\n",
       "      <th>keyword</th>\n",
       "      <th>location</th>\n",
       "      <th>text</th>\n",
       "      <th>target</th>\n",
       "    </tr>\n",
       "  </thead>\n",
       "  <tbody>\n",
       "    <tr>\n",
       "      <th>0</th>\n",
       "      <td>1</td>\n",
       "      <td>NaN</td>\n",
       "      <td>NaN</td>\n",
       "      <td>Our Deeds are the Reason of this #earthquake M...</td>\n",
       "      <td>1</td>\n",
       "    </tr>\n",
       "    <tr>\n",
       "      <th>1</th>\n",
       "      <td>4</td>\n",
       "      <td>NaN</td>\n",
       "      <td>NaN</td>\n",
       "      <td>Forest fire near La Ronge Sask. Canada</td>\n",
       "      <td>1</td>\n",
       "    </tr>\n",
       "    <tr>\n",
       "      <th>2</th>\n",
       "      <td>5</td>\n",
       "      <td>NaN</td>\n",
       "      <td>NaN</td>\n",
       "      <td>All residents asked to 'shelter in place' are ...</td>\n",
       "      <td>1</td>\n",
       "    </tr>\n",
       "    <tr>\n",
       "      <th>3</th>\n",
       "      <td>6</td>\n",
       "      <td>NaN</td>\n",
       "      <td>NaN</td>\n",
       "      <td>13,000 people receive #wildfires evacuation or...</td>\n",
       "      <td>1</td>\n",
       "    </tr>\n",
       "    <tr>\n",
       "      <th>4</th>\n",
       "      <td>7</td>\n",
       "      <td>NaN</td>\n",
       "      <td>NaN</td>\n",
       "      <td>Just got sent this photo from Ruby #Alaska as ...</td>\n",
       "      <td>1</td>\n",
       "    </tr>\n",
       "  </tbody>\n",
       "</table>\n",
       "</div>"
      ],
      "text/plain": [
       "   id keyword location                                               text  \\\n",
       "0   1     NaN      NaN  Our Deeds are the Reason of this #earthquake M...   \n",
       "1   4     NaN      NaN             Forest fire near La Ronge Sask. Canada   \n",
       "2   5     NaN      NaN  All residents asked to 'shelter in place' are ...   \n",
       "3   6     NaN      NaN  13,000 people receive #wildfires evacuation or...   \n",
       "4   7     NaN      NaN  Just got sent this photo from Ruby #Alaska as ...   \n",
       "\n",
       "   target  \n",
       "0       1  \n",
       "1       1  \n",
       "2       1  \n",
       "3       1  \n",
       "4       1  "
      ]
     },
     "execution_count": 2,
     "metadata": {},
     "output_type": "execute_result"
    }
   ],
   "source": [
    "train_df = pd.read_csv(\"train.csv\")\n",
    "test_df = pd.read_csv(\"test.csv\")\n",
    "\n",
    "train_df.head()"
   ]
  },
  {
   "cell_type": "markdown",
   "id": "077ccec4",
   "metadata": {},
   "source": [
    "## K Most Occuring Words Sorted by their Frequency\n"
   ]
  },
  {
   "cell_type": "code",
   "execution_count": 3,
   "id": "add2b9c2",
   "metadata": {},
   "outputs": [],
   "source": [
    "from collections import Counter\n",
    "  \n",
    "data_set = train_df[\"text\"] + \" \"\n",
    "data_set = data_set.str.cat()\n",
    "  \n",
    "# split() returns list of all the words in the string\n",
    "split_it = data_set.split()\n",
    "  \n",
    "# Pass the split_it list to instance of Counter class.\n",
    "Counter = Counter(split_it)\n",
    "  \n",
    "# most_common() produces k frequently encountered\n",
    "# input values and their respective counts.\n",
    "\n",
    "vocabulary_size = 10000\n",
    "most_occuring = Counter.most_common(vocabulary_size)\n",
    "\n",
    "vocab = [word for (word, count) in most_occuring]\n",
    "\n"
   ]
  },
  {
   "cell_type": "markdown",
   "id": "7f14f035",
   "metadata": {},
   "source": [
    "# Vectorize the Data"
   ]
  },
  {
   "cell_type": "code",
   "execution_count": 4,
   "id": "f58b7266",
   "metadata": {},
   "outputs": [
    {
     "data": {
      "text/plain": [
       "(5100, 10000)"
      ]
     },
     "execution_count": 4,
     "metadata": {},
     "output_type": "execute_result"
    }
   ],
   "source": [
    "#CountVectorizer converts a collection of text documents to a matrix of token counts\n",
    "count_vectorizer = feature_extraction.text.CountVectorizer(vocabulary=vocab)\n",
    "\n",
    "train_vectors = count_vectorizer.fit_transform(train_df[\"text\"])\n",
    "test_vectors = count_vectorizer.transform(test_df[\"text\"])\n",
    "\n",
    "# note that we're NOT using .fit_transform() for test data. Using just .transform() makes sure\n",
    "# that the tokens in the train vectors are the only ones mapped to the test vectors - \n",
    "# i.e. that the train and test vectors use the same set of tokens.\n",
    "\n",
    "x_train, x_test, y_train, y_test = train_test_split(train_vectors.todense(), train_df[\"target\"], \n",
    "                                                   test_size=0.33, random_state=42)\n",
    "x_train.shape"
   ]
  },
  {
   "cell_type": "code",
   "execution_count": 5,
   "id": "8a3d0f5c",
   "metadata": {},
   "outputs": [
    {
     "data": {
      "image/png": "[encoded data removed]",
      "text/plain": [
       "<Figure size 576x576 with 1 Axes>"
      ]
     },
     "metadata": {
      "needs_background": "light"
     },
     "output_type": "display_data"
    }
   ],
   "source": [
    "plt.figure(figsize=(8, 8))\n",
    "\n",
    "plt.imshow(x_train[:100, :100], cmap=\"inferno\")\n",
    "plt.show()\n",
    "plt.close()"
   ]
  },
  {
   "cell_type": "markdown",
   "id": "6cdc3ab2",
   "metadata": {},
   "source": [
    "# RidgeClassifier (Kaggle example)\n"
   ]
  },
  {
   "cell_type": "code",
   "execution_count": 6,
   "id": "8e93bb1d",
   "metadata": {},
   "outputs": [
    {
     "name": "stdout",
     "output_type": "stream",
     "text": [
      "Accuracy is: 0.7704\n",
      "f1 is: 0.7225\n"
     ]
    }
   ],
   "source": [
    "from sklearn import linear_model, metrics\n",
    "\n",
    "## Our vectors are really big, so we want to push our model's weights toward 0 \n",
    "## without completely discounting different words - \n",
    "## ridge regression is a good way to do this.\n",
    "clf = linear_model.RidgeClassifier()\n",
    "clf.fit(x_train, y_train)\n",
    "\n",
    "y_pred = clf.predict(x_test)\n",
    "\n",
    "accuracy = metrics.accuracy_score(y_test, y_pred)\n",
    "print(\"Accuracy is: \" + f\"{accuracy:.04f}\")\n",
    "\n",
    "f1 = metrics.f1_score(y_test, y_pred)\n",
    "print(\"f1 is: \" + f\"{f1:.04f}\")\n"
   ]
  },
  {
   "cell_type": "markdown",
   "id": "e3d108f7",
   "metadata": {},
   "source": [
    "# GaussianNB"
   ]
  },
  {
   "cell_type": "code",
   "execution_count": null,
   "id": "080b5621",
   "metadata": {},
   "outputs": [],
   "source": [
    "from sklearn.naive_bayes import GaussianNB\n",
    "from sklearn.model_selection import train_test_split\n",
    "\n",
    "clf = GaussianNB()\n",
    "clf.fit(x_train, y_train)\n",
    "\n",
    "y_pred = clf.predict(x_test)\n",
    "\n",
    "accuracy = metrics.accuracy_score(y_test, y_pred)\n",
    "print(\"Accuracy is: \" + f\"{accuracy:.04f}\")\n",
    "\n",
    "f1 = metrics.f1_score(y_test, y_pred)\n",
    "print(\"f1 is: \" + f\"{f1:.04f}\")\n"
   ]
  },
  {
   "cell_type": "markdown",
   "id": "7b716683",
   "metadata": {},
   "source": [
    "# DecisionTreeClassifier"
   ]
  },
  {
   "cell_type": "code",
   "execution_count": null,
   "id": "418cf9e8",
   "metadata": {},
   "outputs": [],
   "source": [
    "from sklearn.tree import DecisionTreeClassifier, plot_tree\n",
    "\n",
    "clf = DecisionTreeClassifier(max_leaf_nodes=10) #This takes too long without some limit\n",
    "clf.fit(x_train, y_train)\n",
    "\n",
    "y_pred = clf.predict(x_test)\n",
    "\n",
    "accuracy = metrics.accuracy_score(y_test, y_pred)\n",
    "print(\"Accuracy is: \" + f\"{accuracy:.04f}\")\n",
    "\n",
    "f1 = metrics.f1_score(y_test, y_pred)\n",
    "print(\"f1 is: \" + f\"{f1:.04f}\")"
   ]
  },
  {
   "cell_type": "markdown",
   "id": "4db9150a",
   "metadata": {},
   "source": [
    "# Simple Neural Network"
   ]
  },
  {
   "cell_type": "code",
   "execution_count": null,
   "id": "fd3ba2d9",
   "metadata": {},
   "outputs": [],
   "source": [
    "# needs vectorized data as input\n",
    "\n",
    "from tensorflow.keras import models, layers\n",
    "\n",
    "model = models.Sequential()\n",
    "model.add(layers.Dense(512, activation=\"relu\", input_shape=(vocabulary_size, )))\n",
    "model.add(layers.Dense(1, activation=\"sigmoid\"))\n",
    "model.summary()\n",
    "\n",
    "model.compile(\n",
    "    optimizer=\"adam\",\n",
    "    loss=\"binary_crossentropy\",\n",
    "    metrics=[\"accuracy\"]\n",
    ")\n",
    "\n",
    "model.fit(\n",
    "    x_train, y_train, \n",
    "    epochs=20,\n",
    "    batch_size=500,\n",
    "    validation_split=0.2\n",
    ")"
   ]
  },
  {
   "cell_type": "code",
   "execution_count": null,
   "id": "316daf46",
   "metadata": {},
   "outputs": [],
   "source": [
    "import matplotlib.pyplot as plt\n",
    "\n",
    "plt.plot(model.history.history[\"accuracy\"], label=\"accuracy\")\n",
    "plt.plot(model.history.history[\"val_accuracy\"], label=\"val_accuracy\")\n",
    "plt.title(\"Accuracy with Simple Neural Network\")\n",
    "plt.legend()\n",
    "plt.show()\n",
    "plt.close()\n",
    "\n",
    "plt.plot(model.history.history[\"loss\"], label=\"loss\")\n",
    "plt.plot(model.history.history[\"val_loss\"], label=\"val_loss\")\n",
    "plt.title(\"Loss with Simple Neural Network\")\n",
    "plt.legend()\n",
    "plt.show()\n",
    "plt.close()"
   ]
  },
  {
   "cell_type": "markdown",
   "id": "b6fc82ec",
   "metadata": {},
   "source": [
    "# Neural Networks with Embedding"
   ]
  },
  {
   "cell_type": "code",
   "execution_count": null,
   "id": "41940c91",
   "metadata": {},
   "outputs": [],
   "source": [
    "x_train = train_df[\"text\"]\n",
    "y_train = train_df[\"target\"]\n",
    "\n",
    "x_train[0]"
   ]
  },
  {
   "cell_type": "code",
   "execution_count": null,
   "id": "a1089ec9",
   "metadata": {},
   "outputs": [],
   "source": [
    "# working out word length of tweets\n",
    "\n",
    "lengths = [len(t.split(' ')) for t in train_df[\"text\"]]\n",
    "\n",
    "plt.hist(lengths, bins=len(set(lengths)))\n",
    "plt.xlabel('Number of Words')\n",
    "plt.ylabel('Number of Tweets')\n",
    "plt.title('Word-Length of Tweets')\n",
    "plt.show()\n",
    "\n",
    "# the chart shows that 30 is a reasonable sequence length\n",
    "\n",
    "sequence_length = 30"
   ]
  },
  {
   "cell_type": "code",
   "execution_count": null,
   "id": "668e6003",
   "metadata": {},
   "outputs": [],
   "source": [
    "# Tokenizing\n",
    "\n",
    "from tensorflow.keras.preprocessing.text import Tokenizer\n",
    "\n",
    "tokenizer = Tokenizer(num_words=10000, oov_token='<UNK>')\n",
    "tokenizer.fit_on_texts(x_train)\n",
    "x_train_tokenized = tokenizer.texts_to_sequences(x_train)\n",
    "\n",
    "x_train_tokenized[0]\n"
   ]
  },
  {
   "cell_type": "code",
   "execution_count": null,
   "id": "f60744c0",
   "metadata": {},
   "outputs": [],
   "source": [
    "# Padding and Truncating\n",
    "\n",
    "from tensorflow.keras import preprocessing\n",
    "\n",
    "x_train_padded = preprocessing.sequence.pad_sequences(\n",
    "    x_train_tokenized,\n",
    "    maxlen=sequence_length,\n",
    "    padding=\"post\",\n",
    "    truncating=\"post\"\n",
    ")\n"
   ]
  },
  {
   "cell_type": "code",
   "execution_count": null,
   "id": "41b72c57",
   "metadata": {},
   "outputs": [],
   "source": [
    "from tensorflow.keras import models, layers\n",
    "\n",
    "model = models.Sequential()\n",
    "\n",
    "embedding_size = 16\n",
    "model.add(layers.Embedding(vocabulary_size, embedding_size, input_length=sequence_length))\n",
    "\n",
    "model.add(layers.Flatten())\n",
    "model.add(layers.Dense(1, activation=\"sigmoid\"))\n",
    "model.summary()\n",
    "\n",
    "model.compile(\n",
    "    optimizer=\"adam\",\n",
    "    loss=\"binary_crossentropy\",\n",
    "    metrics=[\"accuracy\"]\n",
    ")\n",
    "\n",
    "history = model.fit(\n",
    "    x_train_padded, y_train,\n",
    "    epochs=20,\n",
    "    batch_size=500,\n",
    "    validation_split=0.2\n",
    ")"
   ]
  },
  {
   "cell_type": "code",
   "execution_count": null,
   "id": "b5d73d96",
   "metadata": {},
   "outputs": [],
   "source": [
    "plt.plot(model.history.history[\"accuracy\"], label=\"accuracy\")\n",
    "plt.plot(model.history.history[\"val_accuracy\"], label=\"val_accuracy\")\n",
    "plt.title(\"Accuracy with Neural Network + Embedding\")\n",
    "plt.legend()\n",
    "plt.show()\n",
    "plt.close()\n",
    "\n",
    "plt.plot(model.history.history[\"loss\"], label=\"loss\")\n",
    "plt.plot(model.history.history[\"val_loss\"], label=\"val_loss\")\n",
    "plt.title(\"Loss with Neural Network + Embedding\")\n",
    "plt.legend()\n",
    "plt.show()\n",
    "plt.close()"
   ]
  },
  {
   "cell_type": "markdown",
   "id": "89d12b3d",
   "metadata": {},
   "source": [
    "# Neural Networks with Embedding & LSTM"
   ]
  },
  {
   "cell_type": "code",
   "execution_count": null,
   "id": "25040d3e",
   "metadata": {},
   "outputs": [],
   "source": [
    "from tensorflow.keras import models, layers\n",
    "\n",
    "model = models.Sequential()\n",
    "model.add(layers.Embedding(vocabulary_size, embedding_size, input_length=sequence_length))\n",
    "model.add(layers.LSTM(32, return_sequences=True))\n",
    "model.add(layers.LSTM(32))\n",
    "model.add(layers.Dense(1, activation=\"sigmoid\"))\n",
    "model.summary()\n",
    "\n",
    "model.compile(\n",
    "    optimizer=\"adam\",\n",
    "    loss=\"binary_crossentropy\",\n",
    "    metrics=[\"accuracy\"]\n",
    ")\n",
    "\n",
    "history = model.fit(\n",
    "    x_train_padded, y_train,\n",
    "    epochs=20,\n",
    "    batch_size=500,\n",
    "    validation_split=0.2\n",
    ")"
   ]
  },
  {
   "cell_type": "code",
   "execution_count": null,
   "id": "70b1ba10",
   "metadata": {},
   "outputs": [],
   "source": [
    "plt.plot(model.history.history[\"accuracy\"], label=\"accuracy\")\n",
    "plt.plot(model.history.history[\"val_accuracy\"], label=\"val_accuracy\")\n",
    "plt.title(\"Neural Network with Embedding & LSTM\")\n",
    "plt.title(\"Accuracy with Neural Network + Embedding & LSTM\")\n",
    "plt.legend()\n",
    "plt.show()\n",
    "plt.close()\n",
    "\n",
    "plt.plot(model.history.history[\"loss\"], label=\"loss\")\n",
    "plt.plot(model.history.history[\"val_loss\"], label=\"val_loss\")\n",
    "plt.title(\"Loss with Neural Network + Embedding & LSTM\")\n",
    "plt.legend()\n",
    "plt.show()\n",
    "plt.close()"
   ]
  }
 ],
 "metadata": {
  "kernelspec": {
   "display_name": "Python 3",
   "language": "python",
   "name": "python3"
  },
  "language_info": {
   "codemirror_mode": {
    "name": "ipython",
    "version": 3
   },
   "file_extension": ".py",
   "mimetype": "text/x-python",
   "name": "python",
   "nbconvert_exporter": "python",
   "pygments_lexer": "ipython3",
   "version": "3.8.5"
  }
 },
 "nbformat": 4,
 "nbformat_minor": 5
}
