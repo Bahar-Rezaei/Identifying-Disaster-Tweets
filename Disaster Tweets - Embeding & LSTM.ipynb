{
 "cells": [
  {
   "cell_type": "code",
   "execution_count": 4,
   "id": "7457c0c9",
   "metadata": {},
   "outputs": [],
   "source": [
    "import numpy as np # linear algebra\n",
    "import pandas as pd # data processing, CSV file I/O (e.g. pd.read_csv)\n",
    "from sklearn import feature_extraction, model_selection, preprocessing\n",
    "from sklearn.model_selection import train_test_split\n",
    "import matplotlib.pyplot as plt\n",
    "\n",
    "vocabulary_size = 10000\n"
   ]
  },
  {
   "cell_type": "code",
   "execution_count": 5,
   "id": "a3793803",
   "metadata": {},
   "outputs": [
    {
     "data": {
      "text/html": [
       "<div>\n",
       "<style scoped>\n",
       "    .dataframe tbody tr th:only-of-type {\n",
       "        vertical-align: middle;\n",
       "    }\n",
       "\n",
       "    .dataframe tbody tr th {\n",
       "        vertical-align: top;\n",
       "    }\n",
       "\n",
       "    .dataframe thead th {\n",
       "        text-align: right;\n",
       "    }\n",
       "</style>\n",
       "<table border=\"1\" class=\"dataframe\">\n",
       "  <thead>\n",
       "    <tr style=\"text-align: right;\">\n",
       "      <th></th>\n",
       "      <th>id</th>\n",
       "      <th>keyword</th>\n",
       "      <th>location</th>\n",
       "      <th>text</th>\n",
       "      <th>target</th>\n",
       "    </tr>\n",
       "  </thead>\n",
       "  <tbody>\n",
       "    <tr>\n",
       "      <th>0</th>\n",
       "      <td>1</td>\n",
       "      <td>NaN</td>\n",
       "      <td>NaN</td>\n",
       "      <td>Our Deeds are the Reason of this #earthquake M...</td>\n",
       "      <td>1</td>\n",
       "    </tr>\n",
       "    <tr>\n",
       "      <th>1</th>\n",
       "      <td>4</td>\n",
       "      <td>NaN</td>\n",
       "      <td>NaN</td>\n",
       "      <td>Forest fire near La Ronge Sask. Canada</td>\n",
       "      <td>1</td>\n",
       "    </tr>\n",
       "    <tr>\n",
       "      <th>2</th>\n",
       "      <td>5</td>\n",
       "      <td>NaN</td>\n",
       "      <td>NaN</td>\n",
       "      <td>All residents asked to 'shelter in place' are ...</td>\n",
       "      <td>1</td>\n",
       "    </tr>\n",
       "    <tr>\n",
       "      <th>3</th>\n",
       "      <td>6</td>\n",
       "      <td>NaN</td>\n",
       "      <td>NaN</td>\n",
       "      <td>13,000 people receive #wildfires evacuation or...</td>\n",
       "      <td>1</td>\n",
       "    </tr>\n",
       "    <tr>\n",
       "      <th>4</th>\n",
       "      <td>7</td>\n",
       "      <td>NaN</td>\n",
       "      <td>NaN</td>\n",
       "      <td>Just got sent this photo from Ruby #Alaska as ...</td>\n",
       "      <td>1</td>\n",
       "    </tr>\n",
       "  </tbody>\n",
       "</table>\n",
       "</div>"
      ],
      "text/plain": [
       "   id keyword location                                               text  \\\n",
       "0   1     NaN      NaN  Our Deeds are the Reason of this #earthquake M...   \n",
       "1   4     NaN      NaN             Forest fire near La Ronge Sask. Canada   \n",
       "2   5     NaN      NaN  All residents asked to 'shelter in place' are ...   \n",
       "3   6     NaN      NaN  13,000 people receive #wildfires evacuation or...   \n",
       "4   7     NaN      NaN  Just got sent this photo from Ruby #Alaska as ...   \n",
       "\n",
       "   target  \n",
       "0       1  \n",
       "1       1  \n",
       "2       1  \n",
       "3       1  \n",
       "4       1  "
      ]
     },
     "execution_count": 5,
     "metadata": {},
     "output_type": "execute_result"
    }
   ],
   "source": [
    "train_df = pd.read_csv(\"train.csv\")\n",
    "test_df = pd.read_csv(\"test.csv\")\n",
    "\n",
    "train_df.head()"
   ]
  },
  {
   "cell_type": "code",
   "execution_count": 6,
   "id": "390d8d39",
   "metadata": {},
   "outputs": [
    {
     "data": {
      "text/plain": [
       "'Our Deeds are the Reason of this #earthquake May ALLAH Forgive us all'"
      ]
     },
     "execution_count": 6,
     "metadata": {},
     "output_type": "execute_result"
    }
   ],
   "source": [
    "x_train = train_df[\"text\"]\n",
    "y_train = train_df[\"target\"]\n",
    "\n",
    "x_train[0]"
   ]
  },
  {
   "cell_type": "code",
   "execution_count": 7,
   "id": "69d98029",
   "metadata": {},
   "outputs": [
    {
     "data": {
      "image/png": "[encoded data removed]",
      "text/plain": [
       "<Figure size 432x288 with 1 Axes>"
      ]
     },
     "metadata": {
      "needs_background": "light"
     },
     "output_type": "display_data"
    }
   ],
   "source": [
    "# working out word length of tweets\n",
    "\n",
    "lengths = [len(t.split(' ')) for t in train_df[\"text\"]]\n",
    "\n",
    "plt.hist(lengths, bins=len(set(lengths)))\n",
    "plt.xlabel('Number of Words')\n",
    "plt.ylabel('Number of Tweets')\n",
    "plt.title('Word-Length of Tweets')\n",
    "plt.show()\n",
    "\n",
    "# the chart shows that 30 is a reasonable sequence length\n",
    "\n",
    "sequence_length = 30"
   ]
  },
  {
   "cell_type": "code",
   "execution_count": 8,
   "id": "603949e2",
   "metadata": {},
   "outputs": [
    {
     "data": {
      "text/plain": [
       "[120, 4634, 25, 5, 869, 9, 22, 264, 139, 1620, 4635, 90, 41]"
      ]
     },
     "execution_count": 8,
     "metadata": {},
     "output_type": "execute_result"
    }
   ],
   "source": [
    "# Tokenizing\n",
    "\n",
    "from tensorflow.keras.preprocessing.text import Tokenizer\n",
    "\n",
    "tokenizer = Tokenizer(num_words=10000, oov_token='<UNK>')\n",
    "tokenizer.fit_on_texts(x_train)\n",
    "x_train_tokenized = tokenizer.texts_to_sequences(x_train)\n",
    "\n",
    "x_train_tokenized[0]\n"
   ]
  },
  {
   "cell_type": "code",
   "execution_count": 9,
   "id": "a245f31e",
   "metadata": {},
   "outputs": [],
   "source": [
    "# Padding and Truncating\n",
    "\n",
    "from tensorflow.keras import preprocessing\n",
    "\n",
    "x_train_padded = preprocessing.sequence.pad_sequences(\n",
    "    x_train_tokenized,\n",
    "    maxlen=sequence_length,\n",
    "    padding=\"post\",\n",
    "    truncating=\"post\"\n",
    ")\n"
   ]
  },
  {
   "cell_type": "markdown",
   "id": "71e3ccc8",
   "metadata": {},
   "source": [
    "# Neural Networks with Embedding"
   ]
  },
  {
   "cell_type": "code",
   "execution_count": 10,
   "id": "5d797e41",
   "metadata": {},
   "outputs": [
    {
     "name": "stdout",
     "output_type": "stream",
     "text": [
      "Model: \"sequential\"\n",
      "_________________________________________________________________\n",
      "Layer (type)                 Output Shape              Param #   \n",
      "=================================================================\n",
      "embedding (Embedding)        (None, 30, 16)            160000    \n",
      "_________________________________________________________________\n",
      "flatten (Flatten)            (None, 480)               0         \n",
      "_________________________________________________________________\n",
      "dense (Dense)                (None, 1)                 481       \n",
      "=================================================================\n",
      "Total params: 160,481\n",
      "Trainable params: 160,481\n",
      "Non-trainable params: 0\n",
      "_________________________________________________________________\n",
      "Epoch 1/20\n",
      "13/13 [==============================] - 1s 16ms/step - loss: 0.6868 - accuracy: 0.5803 - val_loss: 0.6848 - val_accuracy: 0.5391\n",
      "Epoch 2/20\n",
      "13/13 [==============================] - 0s 5ms/step - loss: 0.6676 - accuracy: 0.5984 - val_loss: 0.6790 - val_accuracy: 0.5358\n",
      "Epoch 3/20\n",
      "13/13 [==============================] - 0s 5ms/step - loss: 0.6495 - accuracy: 0.5984 - val_loss: 0.6729 - val_accuracy: 0.5430\n",
      "Epoch 4/20\n",
      "13/13 [==============================] - 0s 4ms/step - loss: 0.6303 - accuracy: 0.6297 - val_loss: 0.6615 - val_accuracy: 0.5594\n",
      "Epoch 5/20\n",
      "13/13 [==============================] - 0s 4ms/step - loss: 0.6071 - accuracy: 0.7097 - val_loss: 0.6467 - val_accuracy: 0.6336\n",
      "Epoch 6/20\n",
      "13/13 [==============================] - 0s 4ms/step - loss: 0.5797 - accuracy: 0.7678 - val_loss: 0.6328 - val_accuracy: 0.6756\n",
      "Epoch 7/20\n",
      "13/13 [==============================] - 0s 4ms/step - loss: 0.5502 - accuracy: 0.7974 - val_loss: 0.6168 - val_accuracy: 0.6953\n",
      "Epoch 8/20\n",
      "13/13 [==============================] - 0s 4ms/step - loss: 0.5193 - accuracy: 0.8179 - val_loss: 0.6017 - val_accuracy: 0.7065\n",
      "Epoch 9/20\n",
      "13/13 [==============================] - 0s 4ms/step - loss: 0.4884 - accuracy: 0.8337 - val_loss: 0.5858 - val_accuracy: 0.7223\n",
      "Epoch 10/20\n",
      "13/13 [==============================] - 0s 4ms/step - loss: 0.4578 - accuracy: 0.8488 - val_loss: 0.5721 - val_accuracy: 0.7341\n",
      "Epoch 11/20\n",
      "13/13 [==============================] - 0s 4ms/step - loss: 0.4289 - accuracy: 0.8598 - val_loss: 0.5589 - val_accuracy: 0.7393\n",
      "Epoch 12/20\n",
      "13/13 [==============================] - 0s 4ms/step - loss: 0.4017 - accuracy: 0.8698 - val_loss: 0.5477 - val_accuracy: 0.7492\n",
      "Epoch 13/20\n",
      "13/13 [==============================] - 0s 4ms/step - loss: 0.3765 - accuracy: 0.8795 - val_loss: 0.5365 - val_accuracy: 0.7525\n",
      "Epoch 14/20\n",
      "13/13 [==============================] - 0s 4ms/step - loss: 0.3530 - accuracy: 0.8920 - val_loss: 0.5264 - val_accuracy: 0.7610\n",
      "Epoch 15/20\n",
      "13/13 [==============================] - 0s 4ms/step - loss: 0.3316 - accuracy: 0.9007 - val_loss: 0.5182 - val_accuracy: 0.7682\n",
      "Epoch 16/20\n",
      "13/13 [==============================] - 0s 4ms/step - loss: 0.3117 - accuracy: 0.9059 - val_loss: 0.5118 - val_accuracy: 0.7702\n",
      "Epoch 17/20\n",
      "13/13 [==============================] - 0s 4ms/step - loss: 0.2936 - accuracy: 0.9125 - val_loss: 0.5050 - val_accuracy: 0.7761\n",
      "Epoch 18/20\n",
      "13/13 [==============================] - 0s 4ms/step - loss: 0.2769 - accuracy: 0.9190 - val_loss: 0.5000 - val_accuracy: 0.7715\n",
      "Epoch 19/20\n",
      "13/13 [==============================] - 0s 4ms/step - loss: 0.2614 - accuracy: 0.9233 - val_loss: 0.4951 - val_accuracy: 0.7715\n",
      "Epoch 20/20\n",
      "13/13 [==============================] - 0s 4ms/step - loss: 0.2472 - accuracy: 0.9292 - val_loss: 0.4912 - val_accuracy: 0.7735\n"
     ]
    }
   ],
   "source": [
    "# embeding includes both vectorization and todense that was done for previous models\n",
    "\n",
    "from tensorflow.keras import models, layers\n",
    "\n",
    "model = models.Sequential()\n",
    "\n",
    "embedding_size = 16\n",
    "model.add(layers.Embedding(vocabulary_size, embedding_size, input_length=sequence_length))\n",
    "\n",
    "model.add(layers.Flatten())\n",
    "model.add(layers.Dense(1, activation=\"sigmoid\"))\n",
    "model.summary()\n",
    "\n",
    "model.compile(\n",
    "    optimizer=\"adam\",\n",
    "    loss=\"binary_crossentropy\",\n",
    "    metrics=[\"accuracy\"]\n",
    ")\n",
    "\n",
    "history = model.fit(\n",
    "    x_train_padded, y_train,\n",
    "    epochs=20,\n",
    "    batch_size=500,\n",
    "    validation_split=0.2\n",
    ")"
   ]
  },
  {
   "cell_type": "code",
   "execution_count": 11,
   "id": "b8bfee18",
   "metadata": {},
   "outputs": [
    {
     "data": {
      "image/png": "[encoded data removed]",
      "text/plain": [
       "<Figure size 432x288 with 1 Axes>"
      ]
     },
     "metadata": {
      "needs_background": "light"
     },
     "output_type": "display_data"
    },
    {
     "data": {
      "image/png": "[encoded data removed]",
      "text/plain": [
       "<Figure size 432x288 with 1 Axes>"
      ]
     },
     "metadata": {
      "needs_background": "light"
     },
     "output_type": "display_data"
    }
   ],
   "source": [
    "import matplotlib.pyplot as plt\n",
    "\n",
    "plt.plot(model.history.history[\"accuracy\"], label=\"accuracy\")\n",
    "plt.plot(model.history.history[\"val_accuracy\"], label=\"val_accuracy\")\n",
    "plt.title(\"Accuracy with Neural Network + Embedding\")\n",
    "plt.legend()\n",
    "plt.show()\n",
    "plt.close()\n",
    "\n",
    "plt.plot(model.history.history[\"loss\"], label=\"loss\")\n",
    "plt.plot(model.history.history[\"val_loss\"], label=\"val_loss\")\n",
    "plt.title(\"Loss with Neural Network + Embedding\")\n",
    "plt.legend()\n",
    "plt.show()\n",
    "plt.close()"
   ]
  },
  {
   "cell_type": "markdown",
   "id": "e7edd74a",
   "metadata": {},
   "source": [
    "# Neural Networks with Embedding & LSTM"
   ]
  },
  {
   "cell_type": "code",
   "execution_count": 12,
   "id": "14188864",
   "metadata": {},
   "outputs": [
    {
     "name": "stdout",
     "output_type": "stream",
     "text": [
      "Model: \"sequential_1\"\n",
      "_________________________________________________________________\n",
      "Layer (type)                 Output Shape              Param #   \n",
      "=================================================================\n",
      "embedding_1 (Embedding)      (None, 30, 16)            160000    \n",
      "_________________________________________________________________\n",
      "lstm (LSTM)                  (None, 30, 32)            6272      \n",
      "_________________________________________________________________\n",
      "lstm_1 (LSTM)                (None, 32)                8320      \n",
      "_________________________________________________________________\n",
      "dense_1 (Dense)              (None, 1)                 33        \n",
      "=================================================================\n",
      "Total params: 174,625\n",
      "Trainable params: 174,625\n",
      "Non-trainable params: 0\n",
      "_________________________________________________________________\n",
      "Epoch 1/20\n",
      "7/7 [==============================] - 5s 262ms/step - loss: 0.6864 - accuracy: 0.5791 - val_loss: 0.6894 - val_accuracy: 0.5345\n",
      "Epoch 2/20\n",
      "7/7 [==============================] - 1s 153ms/step - loss: 0.6767 - accuracy: 0.5793 - val_loss: 0.6957 - val_accuracy: 0.5345\n",
      "Epoch 3/20\n",
      "7/7 [==============================] - 1s 155ms/step - loss: 0.6728 - accuracy: 0.5793 - val_loss: 0.6813 - val_accuracy: 0.5345\n",
      "Epoch 4/20\n",
      "7/7 [==============================] - 1s 176ms/step - loss: 0.6597 - accuracy: 0.5816 - val_loss: 0.6575 - val_accuracy: 0.5594\n",
      "Epoch 5/20\n",
      "7/7 [==============================] - 2s 225ms/step - loss: 0.5975 - accuracy: 0.6757 - val_loss: 0.5789 - val_accuracy: 0.7374\n",
      "Epoch 6/20\n",
      "7/7 [==============================] - 1s 161ms/step - loss: 0.4895 - accuracy: 0.7906 - val_loss: 0.5823 - val_accuracy: 0.7163\n",
      "Epoch 7/20\n",
      "7/7 [==============================] - 1s 168ms/step - loss: 0.4182 - accuracy: 0.8174 - val_loss: 0.5271 - val_accuracy: 0.7748\n",
      "Epoch 8/20\n",
      "7/7 [==============================] - 1s 197ms/step - loss: 0.3521 - accuracy: 0.8639 - val_loss: 0.5242 - val_accuracy: 0.7472\n",
      "Epoch 9/20\n",
      "7/7 [==============================] - 1s 204ms/step - loss: 0.2984 - accuracy: 0.8900 - val_loss: 0.5093 - val_accuracy: 0.7735\n",
      "Epoch 10/20\n",
      "7/7 [==============================] - 2s 255ms/step - loss: 0.2577 - accuracy: 0.9066 - val_loss: 0.5524 - val_accuracy: 0.7597\n",
      "Epoch 11/20\n",
      "7/7 [==============================] - 3s 415ms/step - loss: 0.2226 - accuracy: 0.9256 - val_loss: 0.5630 - val_accuracy: 0.7544\n",
      "Epoch 12/20\n",
      "7/7 [==============================] - 2s 208ms/step - loss: 0.1947 - accuracy: 0.9356 - val_loss: 0.5688 - val_accuracy: 0.7748\n",
      "Epoch 13/20\n",
      "7/7 [==============================] - 2s 331ms/step - loss: 0.1723 - accuracy: 0.9450 - val_loss: 0.6219 - val_accuracy: 0.7446\n",
      "Epoch 14/20\n",
      "7/7 [==============================] - 1s 214ms/step - loss: 0.1490 - accuracy: 0.9544 - val_loss: 0.6489 - val_accuracy: 0.7525\n",
      "Epoch 15/20\n",
      "7/7 [==============================] - 2s 236ms/step - loss: 0.1314 - accuracy: 0.9608 - val_loss: 0.6992 - val_accuracy: 0.7433\n",
      "Epoch 16/20\n",
      "7/7 [==============================] - 2s 228ms/step - loss: 0.1216 - accuracy: 0.9634 - val_loss: 0.7926 - val_accuracy: 0.7380\n",
      "Epoch 17/20\n",
      "7/7 [==============================] - 2s 290ms/step - loss: 0.1070 - accuracy: 0.9688 - val_loss: 0.8145 - val_accuracy: 0.7433\n",
      "Epoch 18/20\n",
      "7/7 [==============================] - 2s 255ms/step - loss: 0.0994 - accuracy: 0.9716 - val_loss: 0.8489 - val_accuracy: 0.7360\n",
      "Epoch 19/20\n",
      "7/7 [==============================] - 2s 219ms/step - loss: 0.0900 - accuracy: 0.9736 - val_loss: 0.9406 - val_accuracy: 0.7282\n",
      "Epoch 20/20\n",
      "7/7 [==============================] - 1s 191ms/step - loss: 0.0904 - accuracy: 0.9736 - val_loss: 0.9116 - val_accuracy: 0.7367\n"
     ]
    }
   ],
   "source": [
    "from tensorflow.keras import models, layers\n",
    "\n",
    "model = models.Sequential()\n",
    "model.add(layers.Embedding(vocabulary_size, embedding_size, input_length=sequence_length))\n",
    "model.add(layers.LSTM(32, return_sequences=True))\n",
    "model.add(layers.LSTM(32))\n",
    "model.add(layers.Dense(1, activation=\"sigmoid\"))\n",
    "model.summary()\n",
    "\n",
    "model.compile(\n",
    "    optimizer=\"adam\",\n",
    "    loss=\"binary_crossentropy\",\n",
    "    metrics=[\"accuracy\"]\n",
    ")\n",
    "\n",
    "history = model.fit(\n",
    "    x_train_padded, y_train,\n",
    "    epochs=20,\n",
    "    batch_size=1000,\n",
    "    validation_split=0.2\n",
    ")"
   ]
  },
  {
   "cell_type": "code",
   "execution_count": 13,
   "id": "11a31576",
   "metadata": {},
   "outputs": [
    {
     "data": {
      "image/png": "[encoded data removed]",
      "text/plain": [
       "<Figure size 432x288 with 1 Axes>"
      ]
     },
     "metadata": {
      "needs_background": "light"
     },
     "output_type": "display_data"
    },
    {
     "data": {
      "image/png": "[encoded data removed]",
      "text/plain": [
       "<Figure size 432x288 with 1 Axes>"
      ]
     },
     "metadata": {
      "needs_background": "light"
     },
     "output_type": "display_data"
    }
   ],
   "source": [
    "plt.plot(model.history.history[\"accuracy\"], label=\"accuracy\")\n",
    "plt.plot(model.history.history[\"val_accuracy\"], label=\"val_accuracy\")\n",
    "plt.title(\"Neural Network with Embedding & LSTM\")\n",
    "plt.title(\"Accuracy with Neural Network + Embedding & LSTM\")\n",
    "plt.legend()\n",
    "plt.show()\n",
    "plt.close()\n",
    "\n",
    "plt.plot(model.history.history[\"loss\"], label=\"loss\")\n",
    "plt.plot(model.history.history[\"val_loss\"], label=\"val_loss\")\n",
    "plt.title(\"Loss with Neural Network + Embedding & LSTM\")\n",
    "plt.legend()\n",
    "plt.show()\n",
    "plt.close()"
   ]
  },
  {
   "cell_type": "code",
   "execution_count": null,
   "id": "6f0ddcf6",
   "metadata": {},
   "outputs": [],
   "source": []
  }
 ],
 "metadata": {
  "kernelspec": {
   "display_name": "Python 3",
   "language": "python",
   "name": "python3"
  },
  "language_info": {
   "codemirror_mode": {
    "name": "ipython",
    "version": 3
   },
   "file_extension": ".py",
   "mimetype": "text/x-python",
   "name": "python",
   "nbconvert_exporter": "python",
   "pygments_lexer": "ipython3",
   "version": "3.8.5"
  }
 },
 "nbformat": 4,
 "nbformat_minor": 5
}
